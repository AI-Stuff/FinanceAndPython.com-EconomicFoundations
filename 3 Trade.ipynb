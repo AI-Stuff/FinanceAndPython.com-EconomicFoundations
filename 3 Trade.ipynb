{
 "cells": [
  {
   "cell_type": "code",
   "execution_count": 1,
   "metadata": {
    "collapsed": false
   },
   "outputs": [
    {
     "name": "stdout",
     "output_type": "stream",
     "text": [
      "[0, 2, 4, 6, 8, 10, 12, 14, 16, 18, 20]\n",
      "[40, 36, 32, 28, 24, 20, 16, 12, 8, 4, 0]\n",
      "\n",
      "[0, 4, 8, 12, 16, 20, 24, 28, 32, 36, 40]\n",
      "[20, 18, 16, 14, 12, 10, 8, 6, 4, 2, 0]\n"
     ]
    }
   ],
   "source": [
    "HamburgersSam = []\n",
    "SaladsSam = []\n",
    "\n",
    "for x in range(0,11):\n",
    "    HamburgersSam += [x*2]\n",
    "    SaladsSam += [(10-x)*4]\n",
    "\n",
    "print(HamburgersSam)\n",
    "print(SaladsSam)\n",
    "print(\"\")\n",
    "\n",
    "HamburgersHank = []\n",
    "SaladsHank = []\n",
    "\n",
    "for x in range(0,11):\n",
    "    HamburgersHank += [x*4]\n",
    "    SaladsHank += [(10-x)*2]\n",
    "print(HamburgersHank)\n",
    "print(SaladsHank)"
   ]
  },
  {
   "cell_type": "code",
   "execution_count": 2,
   "metadata": {
    "collapsed": false
   },
   "outputs": [
    {
     "data": {
      "image/png": "[encoded data removed]",
      "text/plain": [
       "<matplotlib.figure.Figure at 0x109925dd0>"
      ]
     },
     "metadata": {},
     "output_type": "display_data"
    }
   ],
   "source": [
    "import matplotlib.pyplot as plt\n",
    "\n",
    "\n",
    "HamburgersSam2 = []\n",
    "SaladsSam2 = []\n",
    "\n",
    "for x in range(0,11):\n",
    "    HamburgersSam2 += [x*4]\n",
    "    SaladsSam2 += [(10-x)*4]\n",
    "\n",
    "plt.plot(HamburgersSam,SaladsSam)\n",
    "plt.plot(HamburgersSam2,SaladsSam2)\n",
    "\n",
    "plt.xlabel(\"Hamburgers\")\n",
    "plt.ylabel(\"Salads\")\n",
    "plt.plot(10,20,'ro')\n",
    "plt.plot(10,30,'go')\n",
    "plt.show()\n",
    "\n"
   ]
  }
 ],
 "metadata": {
  "anaconda-cloud": {},
  "kernelspec": {
   "display_name": "Python [conda root]",
   "language": "python",
   "name": "conda-root-py"
  },
  "language_info": {
   "codemirror_mode": {
    "name": "ipython",
    "version": 2
   },
   "file_extension": ".py",
   "mimetype": "text/x-python",
   "name": "python",
   "nbconvert_exporter": "python",
   "pygments_lexer": "ipython2",
   "version": "2.7.12"
  }
 },
 "nbformat": 4,
 "nbformat_minor": 1
}
